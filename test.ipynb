{
 "cells": [
  {
   "attachments": {},
   "cell_type": "markdown",
   "metadata": {},
   "source": [
    "#### Build & Publish\n",
    "\n",
    "pip install spatial-transform --upgrade\n",
    "python -m pipreqs.pipreqs --force"
   ]
  },
  {
   "cell_type": "code",
   "execution_count": 3,
   "metadata": {},
   "outputs": [
    {
     "name": "stdout",
     "output_type": "stream",
     "text": [
      "Hips\n",
      "+- LeftLegUpper\n",
      "|  +- LeftLegLower\n",
      "|     +- LeftLegFoot\n",
      "+- RightLegUpper\n",
      "   +- RightLegLower\n",
      "      +- RightLegFoot\n",
      "\n",
      "World positions, local positions, joint directions:\n",
      "vec3(            0,            2,            0 ) vec3(            0,            2,            0 ) vec3(            0,            0,           -1 ) Hips\n",
      "vec3(          0.2,            0,            0 ) vec3(          0.2,           -2,            0 ) vec3(            0,            0,           -1 ) LeftLegUpper\n",
      "vec3(            0,           -1,            0 ) vec3(         -0.2,           -1,            0 ) vec3(            0,            0,           -1 ) LeftLegLower\n",
      "vec3(            0,           -1,            0 ) vec3(            0,            0,            0 ) vec3(            0,            0,           -1 ) LeftLegFoot\n",
      "vec3(         -0.2,            0,            0 ) vec3(         -0.2,           -2,            0 ) vec3(            0,            0,           -1 ) RightLegUpper\n",
      "vec3(            0,           -1,            0 ) vec3(          0.2,           -1,            0 ) vec3(            0,            0,           -1 ) RightLegLower\n",
      "vec3(            0,           -1,            0 ) vec3(            0,            0,            0 ) vec3(            0,            0,           -1 ) RightLegFoot\n"
     ]
    }
   ],
   "source": [
    "from SpatialTransform import Transform, Euler\n",
    "\n",
    "# defining the transforms\n",
    "hips = Transform('Hips', position=(0,2,0))\n",
    "LeftLegUpper = Transform('LeftLegUpper', position=(+0.2,0,0))\n",
    "LeftLegLower = Transform('LeftLegLower', position=(0,-1,0))\n",
    "LeftLegFoot = Transform('LeftLegFoot', position=(0,-1,0))\n",
    "RightLegUpper = Transform('RightLegUpper', position=(-0.2,0,0))\n",
    "RightLegLower = Transform('RightLegLower', position=(0,-1,0))\n",
    "RightLegFoot = Transform('RightLegFoot', position=(0,-1,0))\n",
    "\n",
    "# defining the hierarchy\n",
    "hips.attach(LeftLegUpper)\n",
    "LeftLegUpper.attach(LeftLegLower)\n",
    "LeftLegLower.attach(LeftLegFoot)\n",
    "\n",
    "hips.attach(RightLegUpper)\n",
    "RightLegUpper.attach(RightLegLower)\n",
    "RightLegLower.attach(RightLegFoot)\n",
    "\n",
    "# show the created hierarchy\n",
    "hips.printTree()\n",
    "print('\\nWorld positions, local positions, joint directions:')\n",
    "for item, index, depth in hips.layout():\n",
    "    print(f'{item.PositionWorld} {item.Position} {item.ForwardWorld} {item.Name}')"
   ]
  },
  {
   "cell_type": "code",
   "execution_count": 4,
   "metadata": {},
   "outputs": [
    {
     "data": {
      "text/plain": [
       "vec3( 2, 3, 4 )"
      ]
     },
     "execution_count": 4,
     "metadata": {},
     "output_type": "execute_result"
    }
   ],
   "source": [
    "from SpatialTransform import Transform\n",
    "\n",
    "# the basic properties of the transform as position, scale and rotation can be changed by setting the value\n",
    "# but the inverse-properties are read only \n",
    "root = Transform()\n",
    "root.PositionWorld = (1,2,3)\n",
    "root.Scale = .1                     # accepts either a single value or a tuple of three\n",
    "root.RotationWorld = (1, 0, 0, 0)   # rotations are in quaternions\n",
    "\n",
    "# the rotation can be also read and changed with extra methods for simplified usage\n",
    "root.setEuler((0, 90, 0))\n",
    "root.getEuler(order='ZYX')\n",
    "root.lookAtWorld((1, 1, 1))\n",
    "\n",
    "# some methods do update the transform and keep childrens spatially unchanged\n",
    "root.clearParent(keep=['position', 'rotation', 'scale'])\n",
    "root.clearChildren(keep=['position', 'rotation', 'scale'])\n",
    "root.applyPosition()\n",
    "root.applyRotation(recursive=True)\n",
    "root.applyScale(recursive=True)\n",
    "\n",
    "# the transform provide two methods to convert arbitrary points and direction from and to the spaces\n",
    "root.pointToWorld((5,4,3))\n",
    "root.directionToLocal((2,3,4))\n"
   ]
  },
  {
   "cell_type": "code",
   "execution_count": 5,
   "metadata": {},
   "outputs": [
    {
     "name": "stdout",
     "output_type": "stream",
     "text": [
      "Hips\n",
      "+- LeftLegUpper\n",
      "|  +- LeftLegLower\n",
      "|     +- LeftLegFoot\n",
      "+- RightLegUpper\n",
      "   +- RightLegLower\n",
      "      +- RightLegFoot\n",
      "\n",
      "Positions:\n",
      "vec3(            0,            2,            0 ) vec3(            0,            2,            0 ) Hips\n",
      "vec3(         -0.2,            0,  1.74846e-08 ) vec3(         -0.2,           -2,  1.74846e-08 ) LeftLegUpper\n",
      "vec3(            0,           -1,            0 ) vec3(         -0.2,           -1,            0 ) LeftLegLower\n",
      "vec3(            0,           -1,            0 ) vec3(            0,            0,            0 ) LeftLegFoot\n",
      "vec3(          0.2,            0, -1.74846e-08 ) vec3(          0.2,           -2, -1.74846e-08 ) RightLegUpper\n",
      "vec3(            0,           -1,            0 ) vec3(          0.2,           -1,            0 ) RightLegLower\n",
      "vec3(            0,           -1,            0 ) vec3(            0,            0,            0 ) RightLegFoot\n"
     ]
    }
   ],
   "source": [
    "from SpatialTransform import Transform\n",
    "\n",
    "# because almost every method on the \"Transform\" object returns itself,\n",
    "# the previous code of creating and attaching can also be written like:\n",
    "hips = Transform('Hips', position=(0,2,0)).attach(\n",
    "    Transform('LeftLegUpper', position=(+0.2,0,0)).attach(\n",
    "        Transform('LeftLegLower', position=(0,-1,0)).attach(\n",
    "            Transform('LeftLegFoot', position=(0,-1,0))\n",
    "        )\n",
    "    ),\n",
    "    Transform('RightLegUpper', position=(-0.2,0,0)).attach(\n",
    "        Transform('RightLegLower', position=(0,-1,0)).attach(\n",
    "            Transform('RightLegFoot', position=(0,-1,0))\n",
    "        )\n",
    "    )\n",
    ")\n",
    "\n",
    "# multiple actions on a transform can be performed on a single line\n",
    "feets = hips.setEuler((0, 180, 0)).applyRotation().filter('Foot')\n",
    "\n",
    "# show the created hierarchy\n",
    "hips.printTree()\n",
    "print('\\nPositions:')\n",
    "for item, index, depth in hips.layout():\n",
    "    print(f'{item.PositionWorld} {item.Position} {item.Name}')"
   ]
  },
  {
   "cell_type": "code",
   "execution_count": 6,
   "metadata": {},
   "outputs": [
    {
     "name": "stdout",
     "output_type": "stream",
     "text": [
      "vec3(            0,            0,            0 )\n"
     ]
    }
   ],
   "source": [
    "# the package also provides the static class 'Euler'\n",
    "# the 'Transform' does also rely on that to convert between rotation representations\n",
    "from SpatialTransform import Euler\n",
    "\n",
    "# rotations are in radians here\n",
    "matrix = Euler.toMatFrom((1, 2, .5), order='YZX', extrinsic=True)\n",
    "quaternion = Euler.toQuatFrom((1, 2, .5), order='YZX', extrinsic=True)\n",
    "\n",
    "angles1 = Euler.fromMatTo(matrix, order='XYZ', extrinsic=False)\n",
    "angles2 = Euler.fromQuatTo(quaternion, order='XYZ', extrinsic=False)\n",
    "\n",
    "print(angles1 - angles2)"
   ]
  },
  {
   "cell_type": "code",
   "execution_count": null,
   "metadata": {},
   "outputs": [],
   "source": []
  }
 ],
 "metadata": {
  "kernelspec": {
   "display_name": "Python 3",
   "language": "python",
   "name": "python3"
  },
  "language_info": {
   "codemirror_mode": {
    "name": "ipython",
    "version": 3
   },
   "file_extension": ".py",
   "mimetype": "text/x-python",
   "name": "python",
   "nbconvert_exporter": "python",
   "pygments_lexer": "ipython3",
   "version": "3.9.13"
  },
  "orig_nbformat": 4,
  "vscode": {
   "interpreter": {
    "hash": "864323a39c18a1ade2bdf9707c04ff6c86bcf165d3ca262f89a74665bc096b3f"
   }
  }
 },
 "nbformat": 4,
 "nbformat_minor": 2
}
